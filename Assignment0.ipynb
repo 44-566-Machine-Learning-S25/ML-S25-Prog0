{
 "cells": [
  {
   "cell_type": "markdown",
   "metadata": {},
   "source": [
    "# Assignment 0 - GitHub classroom and  a tiny bit of python."
   ]
  },
  {
   "cell_type": "markdown",
   "metadata": {},
   "source": [
    "## Part 1\n",
    "* Create a new markdown cell immediately after this cell.\n",
    "* Use a latex formula to express the geometric mean of three numbers a, b, and c. (Multiply the numbers together and then take a cube root of the result.) (Check the README for a link to a reference on formulas in LaTex. )\n",
    "* Create a new code cell\n",
    "* Assign the value 3, 4 and 5 to the variables a, b, and c.\n",
    "* Use a nice print to compute and report the geometric mean of the three values."
   ]
  },
  {
   "cell_type": "markdown",
   "metadata": {},
   "source": [
    "## Part 2\n",
    "* Create a new code cell immediately after this cell. \n",
    "* Assign the string \"Happy\" to the variable `start`\n",
    "* Assign the string \" birth\" to the variable `mid`\n",
    "* Assign the string \"day\" to the variable `end`\n",
    "* Print start.\n",
    "\n",
    "* Add the following code after your code\n",
    "```Python\n",
    "song = start + (6//2)*mid + 2*end\n",
    "print(song)\n",
    "```\n",
    "* Run the cell. Explain the result in a new markdown cell."
   ]
  },
  {
   "cell_type": "markdown",
   "metadata": {},
   "source": [
    "## Bonus\n",
    "* Create a new code cell.\n",
    "* Prompt the user for a number and assign the value to the variable `value`\n",
    "* Print \"Half of {value} is {value divided by two}\" without using concatenation. Replace any thing inside {} with an appropriate expression. The division gives an integer value."
   ]
  }
 ],
 "metadata": {
  "kernelspec": {
   "display_name": "Python 3 (ipykernel)",
   "language": "python",
   "name": "python3"
  },
  "language_info": {
   "codemirror_mode": {
    "name": "ipython",
    "version": 3
   },
   "file_extension": ".py",
   "mimetype": "text/x-python",
   "name": "python",
   "nbconvert_exporter": "python",
   "pygments_lexer": "ipython3",
   "version": "3.9.10"
  }
 },
 "nbformat": 4,
 "nbformat_minor": 4
}
